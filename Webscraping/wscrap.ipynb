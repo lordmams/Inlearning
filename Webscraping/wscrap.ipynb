{
 "cells": [
  {
   "cell_type": "code",
   "execution_count": 25,
   "metadata": {},
   "outputs": [],
   "source": [
    "from selenium import webdriver\n",
    "from selenium.webdriver.common.by import By\n",
    "from selenium.webdriver.support.ui import WebDriverWait\n",
    "from selenium.webdriver.support import expected_conditions as EC\n",
    "from bs4 import BeautifulSoup\n",
    "import json"
   ]
  },
  {
   "cell_type": "code",
   "execution_count": 28,
   "metadata": {},
   "outputs": [],
   "source": [
    "# URL cible\n",
    "URL = \"https://www.khanacademy.org/computing/computer-programming\"\n"
   ]
  },
  {
   "cell_type": "code",
   "execution_count": 29,
   "metadata": {},
   "outputs": [],
   "source": [
    "# Initialiser le navigateur\n",
    "driver = webdriver.Chrome()  # Assurez-vous d'avoir installé le bon driver ChromeDriver\n",
    "driver.get(URL)"
   ]
  },
  {
   "cell_type": "code",
   "execution_count": 36,
   "metadata": {},
   "outputs": [],
   "source": [
    "# Attendre que la page soit complètement chargée\n",
    "time.sleep(3)"
   ]
  },
  {
   "cell_type": "code",
   "execution_count": 38,
   "metadata": {},
   "outputs": [],
   "source": [
    " # Extraire le code HTML de la page après le chargement complet\n",
    "html_content = driver.page_source\n",
    "soup = BeautifulSoup(html_content, 'html.parser')"
   ]
  },
  {
   "cell_type": "code",
   "execution_count": 39,
   "metadata": {},
   "outputs": [
    {
     "name": "stdout",
     "output_type": "stream",
     "text": [
      "Computer programming - JavaScript and the web\n"
     ]
    }
   ],
   "source": [
    "# Récupérer le titre du cours\n",
    "title = soup.find('h1').text.strip() if soup.find('h1') else \"Titre non disponible\"\n",
    "\n",
    "print(title)"
   ]
  },
  {
   "cell_type": "code",
   "execution_count": 42,
   "metadata": {},
   "outputs": [
    {
     "name": "stdout",
     "output_type": "stream",
     "text": [
      "Unit 1: Intro to JS: Drawing & AnimationIntro to programming: Intro to JS: Drawing & AnimationDrawing basics: Intro to JS: Drawing & AnimationColoring: Intro to JS: Drawing & AnimationVariables: Intro to JS: Drawing & AnimationAnimation basics: Intro to JS: Drawing & AnimationInteractive programs: Intro to JS: Drawing & AnimationBecoming a community coder: Intro to JS: Drawing & AnimationBonus: Resizing with variables: Intro to JS: Drawing & AnimationText and strings: Intro to JS: Drawing & AnimationFunctions: Intro to JS: Drawing & AnimationLogic and if Statements: Intro to JS: Drawing & AnimationDebugging programs: Intro to JS: Drawing & AnimationLooping: Intro to JS: Drawing & AnimationWriting clean code: Intro to JS: Drawing & AnimationArrays: Intro to JS: Drawing & AnimationObjects: Intro to JS: Drawing & AnimationObject-Oriented Design: Intro to JS: Drawing & AnimationBecoming a better programmer: Intro to JS: Drawing & AnimationUnit 2: Intro to HTML/CSS: Making webpagesIntro to HTML: Intro to HTML/CSS: Making webpagesIntro to CSS: Intro to HTML/CSS: Making webpagesMore HTML tags: Intro to HTML/CSS: Making webpagesCSS text properties: Intro to HTML/CSS: Making webpagesWeb development tools: Intro to HTML/CSS: Making webpagesCSS layout: Intro to HTML/CSS: Making webpagesMore CSS selectors: Intro to HTML/CSS: Making webpagesOther ways to embed CSS: Intro to HTML/CSS: Making webpagesFurther learning: Intro to HTML/CSS: Making webpagesUnit 3: Intro to SQL: Querying and managing dataSQL basics: Intro to SQL: Querying and managing dataMore advanced SQL queries: Intro to SQL: Querying and managing dataRelational queries in SQL: Intro to SQL: Querying and managing dataModifying databases with SQL: Intro to SQL: Querying and managing dataFurther learning in SQL: Intro to SQL: Querying and managing dataUnit 4: Advanced JS: Games & VisualizationsIntro to Games & Visualizations: Advanced JS: Games & VisualizationsScene management: Advanced JS: Games & VisualizationsButtons: Advanced JS: Games & VisualizationsMaking a side scroller: Hoppy Beaver: Advanced JS: Games & VisualizationsMaking a memory game: Advanced JS: Games & VisualizationsTransformations: Advanced JS: Games & Visualizations3D shapes: Advanced JS: Games & VisualizationsAdvanced development tools: Advanced JS: Games & VisualizationsUnit 5: Advanced JS: Natural SimulationsIntro to Natural Simulations: Advanced JS: Natural SimulationsRandomness: Advanced JS: Natural SimulationsNoise: Advanced JS: Natural SimulationsVectors: Advanced JS: Natural SimulationsForces: Advanced JS: Natural SimulationsAngular Movement: Advanced JS: Natural SimulationsOscillations: Advanced JS: Natural SimulationsParticle Systems: Advanced JS: Natural SimulationsUnit 6: HTML/JS: Making webpages interactiveGet ready to make your webpages interactive: HTML/JS: Making webpages interactiveJS and the DOM: HTML/JS: Making webpages interactiveDOM access methods: HTML/JS: Making webpages interactiveDOM modification: HTML/JS: Making webpages interactiveDOM events: HTML/JS: Making webpages interactiveDOM animation: HTML/JS: Making webpages interactiveUsing JS libraries in your webpage: HTML/JS: Making webpages interactiveFurther learning: HTML/JS: Making webpages interactiveUnit 7: HTML/JS: Making webpages interactive with jQueryWelcome to jQuery: HTML/JS: Making webpages interactive with jQueryDOM access with jQuery: HTML/JS: Making webpages interactive with jQueryDOM modification with jQuery: HTML/JS: Making webpages interactive with jQueryjQuery techniques: HTML/JS: Making webpages interactive with jQueryDOM events with jQuery: HTML/JS: Making webpages interactive with jQueryForm processing with jQuery: HTML/JS: Making webpages interactive with jQueryDOM animation & effects with jQuery: HTML/JS: Making webpages interactive with jQueryFurther learning: HTML/JS: Making webpages interactive with jQueryUnit 8: Meet the professionalMeet the professional: Meet the professional\n"
     ]
    }
   ],
   "source": [
    "# Récupérer la description du cours avec vérification correcte\n",
    "description_element = soup.find('div', {'class': '_7hv5v4c'})  # Assure-toi que la classe est correcte\n",
    "description = description_element.text.strip() if description_element else \"Description non disponible\"\n",
    "\n",
    "print(description)\n"
   ]
  },
  {
   "cell_type": "code",
   "execution_count": 48,
   "metadata": {},
   "outputs": [
    {
     "name": "stdout",
     "output_type": "stream",
     "text": [
      "1 sections de contenu trouvées.\n",
      "Contenus extraits :\n",
      "Contenu 1 :\n",
      "Unit 1: Intro to JS: Drawing & AnimationIntro to programming: Intro to JS: Drawing & AnimationDrawing basics: Intro to JS: Drawing & AnimationColoring: Intro to JS: Drawing & AnimationVariables: Intro to JS: Drawing & AnimationAnimation basics: Intro to JS: Drawing & AnimationInteractive programs: Intro to JS: Drawing & AnimationBecoming a community coder: Intro to JS: Drawing & AnimationBonus: Resizing with variables: Intro to JS: Drawing & AnimationText and strings: Intro to JS: Drawing & AnimationFunctions: Intro to JS: Drawing & AnimationLogic and if Statements: Intro to JS: Drawing & AnimationDebugging programs: Intro to JS: Drawing & AnimationLooping: Intro to JS: Drawing & AnimationWriting clean code: Intro to JS: Drawing & AnimationArrays: Intro to JS: Drawing & AnimationObjects: Intro to JS: Drawing & AnimationObject-Oriented Design: Intro to JS: Drawing & AnimationBecoming a better programmer: Intro to JS: Drawing & AnimationUnit 2: Intro to HTML/CSS: Making webpagesIntro to HTML: Intro to HTML/CSS: Making webpagesIntro to CSS: Intro to HTML/CSS: Making webpagesMore HTML tags: Intro to HTML/CSS: Making webpagesCSS text properties: Intro to HTML/CSS: Making webpagesWeb development tools: Intro to HTML/CSS: Making webpagesCSS layout: Intro to HTML/CSS: Making webpagesMore CSS selectors: Intro to HTML/CSS: Making webpagesOther ways to embed CSS: Intro to HTML/CSS: Making webpagesFurther learning: Intro to HTML/CSS: Making webpagesUnit 3: Intro to SQL: Querying and managing dataSQL basics: Intro to SQL: Querying and managing dataMore advanced SQL queries: Intro to SQL: Querying and managing dataRelational queries in SQL: Intro to SQL: Querying and managing dataModifying databases with SQL: Intro to SQL: Querying and managing dataFurther learning in SQL: Intro to SQL: Querying and managing dataUnit 4: Advanced JS: Games & VisualizationsIntro to Games & Visualizations: Advanced JS: Games & VisualizationsScene management: Advanced JS: Games & VisualizationsButtons: Advanced JS: Games & VisualizationsMaking a side scroller: Hoppy Beaver: Advanced JS: Games & VisualizationsMaking a memory game: Advanced JS: Games & VisualizationsTransformations: Advanced JS: Games & Visualizations3D shapes: Advanced JS: Games & VisualizationsAdvanced development tools: Advanced JS: Games & VisualizationsUnit 5: Advanced JS: Natural SimulationsIntro to Natural Simulations: Advanced JS: Natural SimulationsRandomness: Advanced JS: Natural SimulationsNoise: Advanced JS: Natural SimulationsVectors: Advanced JS: Natural SimulationsForces: Advanced JS: Natural SimulationsAngular Movement: Advanced JS: Natural SimulationsOscillations: Advanced JS: Natural SimulationsParticle Systems: Advanced JS: Natural SimulationsUnit 6: HTML/JS: Making webpages interactiveGet ready to make your webpages interactive: HTML/JS: Making webpages interactiveJS and the DOM: HTML/JS: Making webpages interactiveDOM access methods: HTML/JS: Making webpages interactiveDOM modification: HTML/JS: Making webpages interactiveDOM events: HTML/JS: Making webpages interactiveDOM animation: HTML/JS: Making webpages interactiveUsing JS libraries in your webpage: HTML/JS: Making webpages interactiveFurther learning: HTML/JS: Making webpages interactiveUnit 7: HTML/JS: Making webpages interactive with jQueryWelcome to jQuery: HTML/JS: Making webpages interactive with jQueryDOM access with jQuery: HTML/JS: Making webpages interactive with jQueryDOM modification with jQuery: HTML/JS: Making webpages interactive with jQueryjQuery techniques: HTML/JS: Making webpages interactive with jQueryDOM events with jQuery: HTML/JS: Making webpages interactive with jQueryForm processing with jQuery: HTML/JS: Making webpages interactive with jQueryDOM animation & effects with jQuery: HTML/JS: Making webpages interactive with jQueryFurther learning: HTML/JS: Making webpages interactive with jQueryUnit 8: Meet the professionalMeet the professional: Meet the professional\n",
      "\n"
     ]
    }
   ],
   "source": [
    "# Vérifier si des sections de contenu ont été trouvées\n",
    "content_section = soup.find_all('div', {'class': '_19q9ljyt'})\n",
    "\n",
    "# Afficher les sections trouvées pour débogage\n",
    "if content_section:\n",
    "    print(f\"{len(content_section)} sections de contenu trouvées.\")\n",
    "else:\n",
    "    print(\"Aucune section de contenu trouvée.\")\n",
    "\n",
    "# Extraire et afficher le texte des sections\n",
    "content = []\n",
    "for section in content_section:\n",
    "    content_text = section.get_text(strip=True)  # Extraire le texte de chaque section\n",
    "    if content_text:\n",
    "        content.append(content_text)  # Ajouter chaque texte extrait à la liste\n",
    "    else:\n",
    "        print(\"Section vide trouvée.\")\n",
    "\n",
    "# Vérifier et afficher le contenu extrait\n",
    "if content:\n",
    "    print(\"Contenus extraits :\")\n",
    "    for idx, item in enumerate(content):\n",
    "        print(f\"Contenu {idx + 1} :\\n{item}\\n\")\n",
    "else:\n",
    "    print(\"Aucun contenu extrait.\")\n"
   ]
  },
  {
   "cell_type": "code",
   "execution_count": 49,
   "metadata": {},
   "outputs": [],
   "source": [
    "# Structure JSON\n",
    "course_data = {\n",
    "    \"cours\": {\n",
    "        \"titre\": title,\n",
    "        \"description\": description,\n",
    "        \"lien\": URL,\n",
    "        \"contenus\": content,\n",
    "        \"categories\": \"Informatique et Développement\",\n",
    "        \"niveau\": \"Débutant\",  # Adapté selon le niveau du cours\n",
    "        \"durée\": \"Variable\"  # L'estimation de la durée peut être extraite si disponible\n",
    "    }\n",
    "}"
   ]
  },
  {
   "cell_type": "code",
   "execution_count": 50,
   "metadata": {},
   "outputs": [],
   "source": [
    "# Sauvegarder dans un fichier JSON\n",
    "with open('khan_academy_course_details.json', 'w', encoding='utf-8') as file:\n",
    "    json.dump(course_data, file, ensure_ascii=False, indent=4)\n"
   ]
  },
  {
   "cell_type": "code",
   "execution_count": null,
   "metadata": {},
   "outputs": [],
   "source": []
  }
 ],
 "metadata": {
  "kernelspec": {
   "display_name": "Python 3",
   "language": "python",
   "name": "python3"
  },
  "language_info": {
   "codemirror_mode": {
    "name": "ipython",
    "version": 3
   },
   "file_extension": ".py",
   "mimetype": "text/x-python",
   "name": "python",
   "nbconvert_exporter": "python",
   "pygments_lexer": "ipython3",
   "version": "3.11.8"
  }
 },
 "nbformat": 4,
 "nbformat_minor": 2
}
