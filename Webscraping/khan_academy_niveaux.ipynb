{
 "cells": [
  {
   "cell_type": "code",
   "execution_count": 14,
   "metadata": {},
   "outputs": [],
   "source": [
    "from selenium import webdriver\n",
    "from selenium.webdriver.common.by import By\n",
    "from selenium.webdriver.support.ui import WebDriverWait\n",
    "from selenium.webdriver.support import expected_conditions as EC\n",
    "from bs4 import BeautifulSoup\n",
    "import time"
   ]
  },
  {
   "cell_type": "code",
   "execution_count": 15,
   "metadata": {},
   "outputs": [],
   "source": [
    "# Initialisation de Selenium\n",
    "driver = webdriver.Chrome()  # Assure-toi d'avoir le bon chemin pour chromedriver\n",
    "driver.maximize_window()"
   ]
  },
  {
   "cell_type": "code",
   "execution_count": 16,
   "metadata": {},
   "outputs": [],
   "source": [
    "# Liste des URLs des cours à parcourir\n",
    "urls = {\n",
    "    \"Data Science\": \"https://www.example.com/data-science-url\",  # Remplace par les vraies URLs\n",
    "    \"Statistiques\": \"https://www.example.com/statistics-url\"\n",
    "}"
   ]
  },
  {
   "cell_type": "code",
   "execution_count": 17,
   "metadata": {},
   "outputs": [],
   "source": [
    "# Initialiser un dictionnaire pour stocker les contenus des cours\n",
    "course_contents = {}"
   ]
  },
  {
   "cell_type": "code",
   "execution_count": null,
   "metadata": {},
   "outputs": [
    {
     "name": "stdout",
     "output_type": "stream",
     "text": [
      "Aucune section trouvée pour le cours 'Data Science'.\n",
      "Aucune section trouvée pour le cours 'Statistiques'.\n"
     ]
    }
   ],
   "source": [
    "# Parcourir chaque URL et extraire les contenus\n",
    "for topic, url in urls.items():\n",
    "    driver.get(url)\n",
    "    \n",
    "    try:\n",
    "        # Attendre que la page se charge complètement\n",
    "        WebDriverWait(driver, 20).until(\n",
    "            EC.presence_of_element_located((By.TAG_NAME, 'body'))  # Attend que la page soit chargée\n",
    "        )\n",
    "        time.sleep(10)  # Pause supplémentaire pour s'assurer que le contenu dynamique est chargé\n",
    "\n",
    "        # Récupérer le HTML de la page après chargement\n",
    "        html_content = driver.page_source\n",
    "        soup = BeautifulSoup(html_content, 'html.parser')\n",
    "\n",
    "        # Récupérer les contenus du cours\n",
    "        contents = []\n",
    "        # Trouver la section contenant les cours - Ajuste la classe si nécessaire\n",
    "        sections = soup.find_all('div', {'class': '438d598'})  # Remplace par la bonne classe si besoin\n",
    "        if not sections:\n",
    "            print(f\"Aucune section trouvée pour le cours '{topic}'.\")\n",
    "        \n",
    "        for section in sections:\n",
    "            contents.append(section.get_text(strip=True))\n",
    "        \n",
    "        # Ajouter les contenus dans le dictionnaire\n",
    "        course_contents[topic] = contents\n",
    "\n",
    "    except Exception as e:\n",
    "        print(f\"Erreur pour le cours '{topic}': {e}\")\n",
    "        course_contents[topic] = [\"Impossible d'extraire le contenu.\"]"
   ]
  },
  {
   "cell_type": "code",
   "execution_count": 12,
   "metadata": {},
   "outputs": [],
   "source": [
    "# Fermer le navigateur\n",
    "driver.quit()"
   ]
  },
  {
   "cell_type": "code",
   "execution_count": 13,
   "metadata": {},
   "outputs": [
    {
     "name": "stdout",
     "output_type": "stream",
     "text": [
      "\n",
      "Cours : Data Science\n",
      "Aucun contenu extrait.\n",
      "\n",
      "Cours : Statistiques\n",
      "Aucun contenu extrait.\n"
     ]
    }
   ],
   "source": [
    "# Afficher les résultats\n",
    "for topic, contents in course_contents.items():\n",
    "    print(f\"\\nCours : {topic}\")\n",
    "    if contents:\n",
    "        for idx, content in enumerate(contents):\n",
    "            print(f\"{idx + 1}. {content}\")\n",
    "    else:\n",
    "        print(\"Aucun contenu extrait.\")"
   ]
  },
  {
   "cell_type": "code",
   "execution_count": null,
   "metadata": {},
   "outputs": [],
   "source": []
  }
 ],
 "metadata": {
  "kernelspec": {
   "display_name": "Python 3",
   "language": "python",
   "name": "python3"
  },
  "language_info": {
   "codemirror_mode": {
    "name": "ipython",
    "version": 3
   },
   "file_extension": ".py",
   "mimetype": "text/x-python",
   "name": "python",
   "nbconvert_exporter": "python",
   "pygments_lexer": "ipython3",
   "version": "3.11.8"
  }
 },
 "nbformat": 4,
 "nbformat_minor": 2
}
